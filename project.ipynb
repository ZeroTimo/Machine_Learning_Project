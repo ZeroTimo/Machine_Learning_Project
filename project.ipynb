{
 "cells": [
  {
   "cell_type": "code",
   "execution_count": 3,
   "metadata": {},
   "outputs": [],
   "source": [
    "import pandas as pd"
   ]
  },
  {
   "cell_type": "code",
   "execution_count": 8,
   "metadata": {},
   "outputs": [],
   "source": [
    "df = pd.read_csv('data/AAPL_historical_data.csv')\n",
    "df[\"Date\"] = pd.to_datetime(df[\"Date\"], utc=True)  # Konvertiere zu datetime mit UTC\n",
    "df[\"Date\"] = df[\"Date\"].dt.date  # Behalte nur das Datum (ohne Uhrzeit)\n"
   ]
  },
  {
   "cell_type": "code",
   "execution_count": 9,
   "metadata": {},
   "outputs": [
    {
     "name": "stdout",
     "output_type": "stream",
     "text": [
      "         Date        Open        High         Low       Close     Volume\n",
      "0  2023-01-03  128.782641  129.395510  122.742865  123.632523  112117500\n",
      "1  2023-01-04  125.431615  127.181276  123.642420  124.907707   89113600\n",
      "2  2023-01-05  125.668857  126.301500  123.326101  123.583107   80962700\n",
      "3  2023-01-06  124.561732  128.792531  123.454601  128.130234   87754700\n",
      "4  2023-01-09  128.970458  131.876670  128.397123  128.654129   70790800\n",
      "<class 'pandas.core.frame.DataFrame'>\n",
      "RangeIndex: 250 entries, 0 to 249\n",
      "Data columns (total 6 columns):\n",
      " #   Column  Non-Null Count  Dtype  \n",
      "---  ------  --------------  -----  \n",
      " 0   Date    250 non-null    object \n",
      " 1   Open    250 non-null    float64\n",
      " 2   High    250 non-null    float64\n",
      " 3   Low     250 non-null    float64\n",
      " 4   Close   250 non-null    float64\n",
      " 5   Volume  250 non-null    int64  \n",
      "dtypes: float64(4), int64(1), object(1)\n",
      "memory usage: 11.8+ KB\n",
      "None\n",
      "             Open        High         Low       Close        Volume\n",
      "count  250.000000  250.000000  250.000000  250.000000  2.500000e+02\n",
      "mean   170.804349  172.391077  169.540436  171.093880  5.921703e+07\n",
      "std     17.596275   17.331272   17.598674   17.399658  1.777392e+07\n",
      "min    124.561732  126.301500  122.742865  123.583107  2.404830e+07\n",
      "25%    159.942023  160.766223  159.095568  160.493954  4.781208e+07\n",
      "50%    173.969934  175.736982  172.575156  174.198265  5.507750e+07\n",
      "75%    185.195728  186.696105  183.579764  186.060753  6.574292e+07\n",
      "max    196.838199  198.428641  195.824279  196.927658  1.543573e+08\n",
      "Date      0\n",
      "Open      0\n",
      "High      0\n",
      "Low       0\n",
      "Close     0\n",
      "Volume    0\n",
      "dtype: int64\n"
     ]
    }
   ],
   "source": [
    "print(df.head())\n",
    "print(df.info())\n",
    "print(df.describe())\n",
    "print(df.isnull().sum())"
   ]
  },
  {
   "cell_type": "code",
   "execution_count": null,
   "metadata": {},
   "outputs": [],
   "source": []
  }
 ],
 "metadata": {
  "kernelspec": {
   "display_name": "Machine_Learning_Project",
   "language": "python",
   "name": "python3"
  },
  "language_info": {
   "codemirror_mode": {
    "name": "ipython",
    "version": 3
   },
   "file_extension": ".py",
   "mimetype": "text/x-python",
   "name": "python",
   "nbconvert_exporter": "python",
   "pygments_lexer": "ipython3",
   "version": "3.11.7"
  }
 },
 "nbformat": 4,
 "nbformat_minor": 2
}
